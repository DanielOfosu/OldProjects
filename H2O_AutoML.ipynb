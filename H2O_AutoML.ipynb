{
 "cells": [
  {
   "cell_type": "code",
   "execution_count": 65,
   "metadata": {},
   "outputs": [
    {
     "name": "stdout",
     "output_type": "stream",
     "text": [
      "Requirement already satisfied: install-jdk in /opt/conda/lib/python3.7/site-packages (0.1.0)\n",
      "Requirement already satisfied: requests in /opt/conda/lib/python3.7/site-packages (2.24.0)\n",
      "Requirement already satisfied: urllib3!=1.25.0,!=1.25.1,<1.26,>=1.21.1 in /opt/conda/lib/python3.7/site-packages (from requests) (1.25.9)\n",
      "Requirement already satisfied: chardet<4,>=3.0.2 in /opt/conda/lib/python3.7/site-packages (from requests) (3.0.4)\n",
      "Requirement already satisfied: idna<3,>=2.5 in /opt/conda/lib/python3.7/site-packages (from requests) (2.10)\n",
      "Requirement already satisfied: certifi>=2017.4.17 in /opt/conda/lib/python3.7/site-packages (from requests) (2020.6.20)\n",
      "Requirement already satisfied: tabulate in /opt/conda/lib/python3.7/site-packages (0.8.7)\n",
      "Requirement already satisfied: colorama>=0.3.8 in /opt/conda/lib/python3.7/site-packages (0.4.3)\n",
      "Requirement already satisfied: future in /opt/conda/lib/python3.7/site-packages (0.18.2)\n",
      "Requirement already satisfied: h2o in /opt/conda/lib/python3.7/site-packages (3.30.0.7)\n",
      "Requirement already satisfied: requests in /opt/conda/lib/python3.7/site-packages (from h2o) (2.24.0)\n",
      "Requirement already satisfied: tabulate in /opt/conda/lib/python3.7/site-packages (from h2o) (0.8.7)\n",
      "Requirement already satisfied: future in /opt/conda/lib/python3.7/site-packages (from h2o) (0.18.2)\n",
      "Requirement already satisfied: colorama>=0.3.8 in /opt/conda/lib/python3.7/site-packages (from h2o) (0.4.3)\n",
      "Requirement already satisfied: certifi>=2017.4.17 in /opt/conda/lib/python3.7/site-packages (from requests->h2o) (2020.6.20)\n",
      "Requirement already satisfied: urllib3!=1.25.0,!=1.25.1,<1.26,>=1.21.1 in /opt/conda/lib/python3.7/site-packages (from requests->h2o) (1.25.9)\n",
      "Requirement already satisfied: chardet<4,>=3.0.2 in /opt/conda/lib/python3.7/site-packages (from requests->h2o) (3.0.4)\n",
      "Requirement already satisfied: idna<3,>=2.5 in /opt/conda/lib/python3.7/site-packages (from requests->h2o) (2.10)\n"
     ]
    }
   ],
   "source": [
    "!pip install install-jdk\n",
    "!pip install requests\n",
    "!pip install tabulate\n",
    "!pip install \"colorama>=0.3.8\"\n",
    "!pip install future\n",
    "!pip install h2o"
   ]
  },
  {
   "cell_type": "markdown",
   "metadata": {
    "colab_type": "text",
    "id": "euPA__3QMUXW"
   },
   "source": [
    "## install Java\n"
   ]
  },
  {
   "cell_type": "code",
   "execution_count": 101,
   "metadata": {},
   "outputs": [
    {
     "name": "stdout",
     "output_type": "stream",
     "text": [
      "https://api.adoptopenjdk.net/v3/binary/latest/8/ga/linux/x64/jdk/hotspot/normal/adoptopenjdk\n",
      "Java already installed!\n"
     ]
    }
   ],
   "source": [
    "\n",
    "import jdk\n",
    "download_url = jdk.get_download_url('8')\n",
    "print(download_url)  \n",
    "try:\n",
    "    jdk.install('8', jre=True)\n",
    "except PermissionError:\n",
    "    print(\"Java already installed!\")"
   ]
  },
  {
   "cell_type": "code",
   "execution_count": 102,
   "metadata": {
    "colab": {
     "base_uri": "https://localhost:8080/",
     "height": 50
    },
    "colab_type": "code",
    "id": "PlxqeAdEMUXd",
    "outputId": "769fe1a9-e8bb-4ef0-b308-e888288177d1"
   },
   "outputs": [],
   "source": [
    "import os\n",
    "java_path = '/home/jupyter/.jre/jdk8u262-b10-jre'\n",
    "os.environ['JAVA_HOME'] = java_path\n"
   ]
  },
  {
   "cell_type": "markdown",
   "metadata": {
    "colab_type": "text",
    "id": "Zj8rvaeMMUXu"
   },
   "source": [
    "## Import Dependencies"
   ]
  },
  {
   "cell_type": "code",
   "execution_count": 103,
   "metadata": {
    "colab": {},
    "colab_type": "code",
    "id": "3FmfPfFzMUXy"
   },
   "outputs": [],
   "source": [
    "import pandas as pd\n",
    "import h2o\n",
    "from h2o.automl import H2OAutoML\n",
    "import matplotlib.pyplot as plt\n",
    "from scipy import stats\n",
    "import numpy as np\n",
    "%matplotlib inline"
   ]
  },
  {
   "cell_type": "markdown",
   "metadata": {},
   "source": [
    "# Import Data"
   ]
  },
  {
   "cell_type": "code",
   "execution_count": 165,
   "metadata": {
    "colab": {
     "base_uri": "https://localhost:8080/",
     "height": 220
    },
    "colab_type": "code",
    "id": "uSpgxus0MUYe",
    "outputId": "e51a1d23-81e9-402f-eb68-c824f8f6a8c1"
   },
   "outputs": [],
   "source": [
    "# wash data\n",
    "var_y = pd.read_csv(\"washdata.csv\") \n",
    "var_y = var_y[var_y['STATION_NUMBER'] == 6201]\n",
    "var_y = var_y[['Date','TransactionCount']]\n",
    "var_y.rename(columns={'Date': 'data', 'TransactionCount': 'transactions'}, inplace=True)\n",
    "var_y = var_y.groupby(\"data\")[\"transactions\"].sum().fillna(0)\n",
    "var_y = var_y.iloc[14:]\n",
    "var_y.to_csv (r'test.csv', index = True, header=True)\n",
    "var_y.to_csv (r'data/var_y.csv', index = True, header=True)\n",
    "\n",
    "# Temperature\n",
    "var_x = pd.read_csv(\"weather_daily.csv\") \n",
    "var_x = var_x[['date','avgTemp']]\n",
    "var_x.rename(columns={'date': 'data', 'avgTemp': 'temp'}, inplace=True)\n",
    "var_x.to_csv (r'data/var_x.csv', index = False, header=True)\n",
    "\n",
    "# Rain\n",
    "var_z = pd.read_csv(\"weather_daily.csv\") \n",
    "var_z = var_z[['date','rainAmount']]\n",
    "var_z.rename(columns={'date': 'data', 'rainAmount': 'rain'}, inplace=True)\n",
    "var_z.to_csv (r'data/var_z.csv', index = False, header=True)\n",
    "\n",
    "# Weekday\n",
    "weekday = pd.read_csv(\"weather_with_features.csv\") \n",
    "weekday = weekday[['date','weekday']]\n",
    "weekday.rename(columns={'date': 'data', 'weekday': 'weekday'}, inplace=True)\n",
    "weekday.to_csv (r'data/weekday.csv', index = False, header=True)\n",
    "\n",
    "# Month\n",
    "month = pd.read_csv(\"weather_with_features.csv\") \n",
    "month = month[['date','month']]\n",
    "month.rename(columns={'date': 'data', 'month': 'month'}, inplace=True)\n",
    "month.to_csv (r'data/month.csv', index = False, header=True)\n",
    "\n",
    "# hasRained\n",
    "hasRained = pd.read_csv(\"weather_with_features.csv\") \n",
    "hasRained = hasRained[['date','hasRained']]\n",
    "hasRained.rename(columns={'date': 'data', 'hasRained': 'hasRained'}, inplace=True)\n",
    "hasRained.to_csv (r'data/hasRained.csv', index = False, header=True)\n",
    "\n",
    "# clouds\n",
    "avgCloudiness = pd.read_csv(\"weather_with_features.csv\") \n",
    "avgCloudiness = avgCloudiness[['date','avgCloudiness']]\n",
    "avgCloudiness.rename(columns={'date': 'data', 'avgCloudiness': 'avgCloudiness'}, inplace=True)\n",
    "avgCloudiness.to_csv (r'data/avgCloudiness.csv', index = False, header=True)\n",
    "\n",
    "dataset_x = pd.read_csv('data/var_x.csv', header=0, index_col=0)\n",
    "dataset_y = pd.read_csv('data/var_y.csv', header=0, index_col=0)\n",
    "dataset_z = pd.read_csv('data/var_z.csv', header=0, index_col=0)\n",
    "weekday = pd.read_csv('data/weekday.csv', header=0, index_col=0)\n",
    "month = pd.read_csv('data/month.csv', header=0, index_col=0)\n",
    "hasRained = pd.read_csv('data/hasRained.csv', header=0, index_col=0)\n",
    "avgCloudiness = pd.read_csv('data/avgCloudiness.csv', header=0, index_col=0)\n",
    "\n",
    "df = pd.concat([dataset_y,dataset_x,dataset_z,weekday,month,hasRained,avgCloudiness], axis=1)\n",
    "values = df.values\n",
    "df.head()\n",
    "\n",
    "# Dropping last two rows as no data for dataset y\n",
    "df.drop(df.tail(2).index,inplace=True)"
   ]
  },
  {
   "cell_type": "code",
   "execution_count": 166,
   "metadata": {
    "colab": {
     "base_uri": "https://localhost:8080/",
     "height": 33
    },
    "colab_type": "code",
    "id": "sYh5wJcnMUZD",
    "outputId": "7f83a9bd-86a3-45ee-9290-4d16910091e7"
   },
   "outputs": [
    {
     "name": "stdout",
     "output_type": "stream",
     "text": [
      "number of rows =  233\n"
     ]
    }
   ],
   "source": [
    "print('number of rows = ', df.shape[0])"
   ]
  },
  {
   "cell_type": "markdown",
   "metadata": {
    "colab_type": "text",
    "id": "FgVoMUe3MUZh"
   },
   "source": [
    "## Plot the data\n",
    "- for this step, we'll use the same code used here: https://machinelearningmastery.com/multivariate-time-series-forecasting-lstms-keras/"
   ]
  },
  {
   "cell_type": "code",
   "execution_count": 167,
   "metadata": {
    "colab": {
     "base_uri": "https://localhost:8080/",
     "height": 268
    },
    "colab_type": "code",
    "id": "lsvQT0sbMUZn",
    "outputId": "62e6f76d-3285-4512-dfdf-bbf621881088"
   },
   "outputs": [
    {
     "data": {
      "image/png": "[encoded data removed]",
      "text/plain": [
       "<Figure size 432x288 with 7 Axes>"
      ]
     },
     "metadata": {
      "needs_background": "light"
     },
     "output_type": "display_data"
    }
   ],
   "source": [
    "# specify columns to plot\n",
    "values = df.values\n",
    "groups = [0, 1, 2, 3,4,5,6]\n",
    "i = 1\n",
    "# plot each column\n",
    "plt.figure()\n",
    "for group in groups:\n",
    "    plt.subplot(len(groups), 1, i)\n",
    "    plt.plot(values[:, group])\n",
    "    plt.title(df.columns[group], y=0.5, loc='right')\n",
    "    i += 1\n",
    "plt.show()"
   ]
  },
  {
   "cell_type": "markdown",
   "metadata": {
    "colab_type": "text",
    "id": "zavHejIbMUbP"
   },
   "source": [
    "## Initialize h2o session"
   ]
  },
  {
   "cell_type": "code",
   "execution_count": 168,
   "metadata": {
    "colab": {
     "base_uri": "https://localhost:8080/",
     "height": 465
    },
    "colab_type": "code",
    "id": "uYCYQufxMUbT",
    "outputId": "f21fcb3e-4a3c-4af2-aeba-ebc106a661c5"
   },
   "outputs": [
    {
     "name": "stdout",
     "output_type": "stream",
     "text": [
      "Checking whether there is an H2O instance running at http://localhost:54321 . connected.\n"
     ]
    },
    {
     "data": {
      "text/html": [
       "<div style=\"overflow:auto\"><table style=\"width:50%\"><tr><td>H2O_cluster_uptime:</td>\n",
       "<td>1 hour 37 mins</td></tr>\n",
       "<tr><td>H2O_cluster_timezone:</td>\n",
       "<td>UTC</td></tr>\n",
       "<tr><td>H2O_data_parsing_timezone:</td>\n",
       "<td>UTC</td></tr>\n",
       "<tr><td>H2O_cluster_version:</td>\n",
       "<td>3.30.0.7</td></tr>\n",
       "<tr><td>H2O_cluster_version_age:</td>\n",
       "<td>1 day </td></tr>\n",
       "<tr><td>H2O_cluster_name:</td>\n",
       "<td>H2O_from_python_jupyter_i9lgpr</td></tr>\n",
       "<tr><td>H2O_cluster_total_nodes:</td>\n",
       "<td>1</td></tr>\n",
       "<tr><td>H2O_cluster_free_memory:</td>\n",
       "<td>3.059 Gb</td></tr>\n",
       "<tr><td>H2O_cluster_total_cores:</td>\n",
       "<td>4</td></tr>\n",
       "<tr><td>H2O_cluster_allowed_cores:</td>\n",
       "<td>4</td></tr>\n",
       "<tr><td>H2O_cluster_status:</td>\n",
       "<td>locked, healthy</td></tr>\n",
       "<tr><td>H2O_connection_url:</td>\n",
       "<td>http://localhost:54321</td></tr>\n",
       "<tr><td>H2O_connection_proxy:</td>\n",
       "<td>{\"http\": null, \"https\": null}</td></tr>\n",
       "<tr><td>H2O_internal_security:</td>\n",
       "<td>False</td></tr>\n",
       "<tr><td>H2O_API_Extensions:</td>\n",
       "<td>Amazon S3, XGBoost, Algos, AutoML, Core V3, TargetEncoder, Core V4</td></tr>\n",
       "<tr><td>Python_version:</td>\n",
       "<td>3.7.6 final</td></tr></table></div>"
      ],
      "text/plain": [
       "--------------------------  ------------------------------------------------------------------\n",
       "H2O_cluster_uptime:         1 hour 37 mins\n",
       "H2O_cluster_timezone:       UTC\n",
       "H2O_data_parsing_timezone:  UTC\n",
       "H2O_cluster_version:        3.30.0.7\n",
       "H2O_cluster_version_age:    1 day\n",
       "H2O_cluster_name:           H2O_from_python_jupyter_i9lgpr\n",
       "H2O_cluster_total_nodes:    1\n",
       "H2O_cluster_free_memory:    3.059 Gb\n",
       "H2O_cluster_total_cores:    4\n",
       "H2O_cluster_allowed_cores:  4\n",
       "H2O_cluster_status:         locked, healthy\n",
       "H2O_connection_url:         http://localhost:54321\n",
       "H2O_connection_proxy:       {\"http\": null, \"https\": null}\n",
       "H2O_internal_security:      False\n",
       "H2O_API_Extensions:         Amazon S3, XGBoost, Algos, AutoML, Core V3, TargetEncoder, Core V4\n",
       "Python_version:             3.7.6 final\n",
       "--------------------------  ------------------------------------------------------------------"
      ]
     },
     "metadata": {},
     "output_type": "display_data"
    }
   ],
   "source": [
    "h2o.init(nthreads=-1)"
   ]
  },
  {
   "cell_type": "markdown",
   "metadata": {
    "colab_type": "text",
    "id": "d2W1QAS8MUbu"
   },
   "source": [
    "## accessing H2OFlow UI\n",
    "- by default H2OFlow UI will open on localhost port 54321\n",
    "- accessing this UI is optional\n",
    "- for more information on H2OFlow: http://docs.h2o.ai/h2o/latest-stable/h2o-docs/flow.html"
   ]
  },
  {
   "cell_type": "code",
   "execution_count": 169,
   "metadata": {
    "colab": {},
    "colab_type": "code",
    "id": "nSS248OOMUcI"
   },
   "outputs": [
    {
     "name": "stdout",
     "output_type": "stream",
     "text": [
      "[############......] / refresh-package-json:localtunnel: timing action:finalize399e7c\u001b[?25h"
     ]
    }
   ],
   "source": [
    "!npm install -g localtunnel -qq > /dev/null\n",
    "get_ipython().system_raw('lt --port 54321 >> url.txt 2>&1 &')"
   ]
  },
  {
   "cell_type": "code",
   "execution_count": 170,
   "metadata": {
    "colab": {
     "base_uri": "https://localhost:8080/",
     "height": 33
    },
    "colab_type": "code",
    "id": "DFQ5OluwMUcb",
    "outputId": "746ed1b3-5783-466c-f008-a616ebb09dd8"
   },
   "outputs": [],
   "source": [
    "!cat url.txt"
   ]
  },
  {
   "cell_type": "markdown",
   "metadata": {
    "colab_type": "text",
    "id": "ONYXks5AMUf9"
   },
   "source": [
    "# Prediction using AutoML"
   ]
  },
  {
   "cell_type": "code",
   "execution_count": null,
   "metadata": {
    "colab": {
     "base_uri": "https://localhost:8080/",
     "height": 98
    },
    "colab_type": "code",
    "id": "akKJnov_MUgA",
    "outputId": "1461ba2b-fde6-482d-ffd8-b0899e8bb8d6"
   },
   "outputs": [
    {
     "name": "stdout",
     "output_type": "stream",
     "text": [
      "Parse progress: |█████████████████████████████████████████████████████████| 100%\n",
      "Parse progress: |█████████████████████████████████████████████████████████| 100%\n",
      "AutoML progress: |█████████████\n",
      "09:28:36.729: Skipping training of model GBM_5_AutoML_20200723_092819 due to exception: water.exceptions.H2OModelBuilderIllegalArgumentException: Illegal argument(s) for GBM model: GBM_5_AutoML_20200723_092819.  Details: ERRR on field: _min_rows: The dataset size is too small to split for min_rows=100.0: must have at least 200.0 (weighted) rows, but have only 193.0.\n",
      "\n",
      "\n",
      "████████"
     ]
    }
   ],
   "source": [
    "df2 = df.copy()\n",
    "num_lags = 17 # number of lags and window lenghts for mean aggregation\n",
    "delay = 7 # predict target seven steps ahead\n",
    "for column in df2:\n",
    "    for lag in range(1,num_lags+1):\n",
    "        df2[column + '_lag' + str(lag)] = df2[column].shift(lag*-1-(delay-1))\n",
    "        if column != 'wnd_dir':\n",
    "            df2[column + '_avg_window_length' + str(lag+1)] = df2[column].shift(-1-(delay-1)).rolling(window=lag+1,center=False).mean().shift(1-(lag+1))\n",
    "\n",
    "df2.dropna(inplace=True) \n",
    "\n",
    "mask = (df2.columns.str.contains('transactions') | df2.columns.str.contains('lag') | df2.columns.str.contains('window'))\n",
    "df_processed = df2[df2.columns[mask]]\n",
    "df_processed.to_csv (r'data/df_processed.csv', index = False, header=True)\n",
    "df_processed.reset_index(drop=True,inplace=True)\n",
    "\n",
    "df_train = df_processed.loc[:int(df_processed.shape[0]*0.95),:]\n",
    "df_test = df_processed.loc[int(df_processed.shape[0]*0.95):,:]\n",
    "\n",
    "hf_train = h2o.H2OFrame(df_train)\n",
    "hf_test = h2o.H2OFrame(df_test)\n",
    "\n",
    "y = 'transactions'\n",
    "x = hf_train.columns\n",
    "x.remove(y)\n",
    "\n",
    "aml = H2OAutoML(max_models = 100, max_runtime_secs=100, seed = 1)\n",
    "aml.train(x = x, \n",
    "          y = y,\n",
    "          training_frame = hf_train,\n",
    "          leaderboard_frame = hf_test)\n",
    "\n",
    "leader_model = aml.leader\n",
    "\n",
    "hf_test_predict = leader_model.predict(hf_test)\n",
    "\n",
    "df_results = pd.DataFrame()\n",
    "df_results['ground_truth'] = df_test['transactions'].reset_index(drop=True)\n",
    "df_results['predictions'] = h2o.as_list(hf_test_predict,use_pandas=True)\n",
    "\n",
    "slope, intercept, r_value, p_value, std_err = stats.linregress(x=df_results['predictions'],y=df_results['ground_truth'])\n",
    "print('R2 = ',r_value*r_value)\n",
    "\n"
   ]
  },
  {
   "cell_type": "markdown",
   "metadata": {
    "colab_type": "text",
    "id": "kfgsPFhGMUa3"
   },
   "source": [
    "## Plot the train/test split"
   ]
  },
  {
   "cell_type": "code",
   "execution_count": 172,
   "metadata": {
    "colab": {
     "base_uri": "https://localhost:8080/",
     "height": 265
    },
    "colab_type": "code",
    "id": "1VXWoCoPMUa7",
    "outputId": "a7e9d6ac-d999-4b72-a9c5-d8911611be76"
   },
   "outputs": [
    {
     "data": {
      "image/png": "[encoded data removed]",
      "text/plain": [
       "<Figure size 432x288 with 1 Axes>"
      ]
     },
     "metadata": {
      "needs_background": "light"
     },
     "output_type": "display_data"
    }
   ],
   "source": [
    "plt.plot(df_train.index,df_train['transactions'])\n",
    "plt.plot(df_test.index,df_test['transactions'])\n",
    "plt.ylabel('transactions',fontsize=18)\n",
    "plt.legend(['train','test'])\n",
    "plt.show()"
   ]
  },
  {
   "cell_type": "markdown",
   "metadata": {},
   "source": [
    "# Model Leaderboard"
   ]
  },
  {
   "cell_type": "code",
   "execution_count": 173,
   "metadata": {},
   "outputs": [
    {
     "data": {
      "text/html": [
       "<table>\n",
       "<thead>\n",
       "<tr><th>model_id                                           </th><th style=\"text-align: right;\">  mean_residual_deviance</th><th style=\"text-align: right;\">    rmse</th><th style=\"text-align: right;\">     mse</th><th style=\"text-align: right;\">    mae</th><th style=\"text-align: right;\">   rmsle</th></tr>\n",
       "</thead>\n",
       "<tbody>\n",
       "<tr><td>XGBoost_grid__1_AutoML_20200723_092447_model_25    </td><td style=\"text-align: right;\">                 77.304 </td><td style=\"text-align: right;\"> 8.79227</td><td style=\"text-align: right;\"> 77.304 </td><td style=\"text-align: right;\">6.23054</td><td style=\"text-align: right;\">0.234238</td></tr>\n",
       "<tr><td>XGBoost_grid__1_AutoML_20200723_092447_model_3     </td><td style=\"text-align: right;\">                 87.3999</td><td style=\"text-align: right;\"> 9.34879</td><td style=\"text-align: right;\"> 87.3999</td><td style=\"text-align: right;\">8.53935</td><td style=\"text-align: right;\">0.268271</td></tr>\n",
       "<tr><td>XGBoost_grid__1_AutoML_20200723_092447_model_9     </td><td style=\"text-align: right;\">                 96.5416</td><td style=\"text-align: right;\"> 9.82556</td><td style=\"text-align: right;\"> 96.5416</td><td style=\"text-align: right;\">7.16987</td><td style=\"text-align: right;\">0.289363</td></tr>\n",
       "<tr><td>XGBoost_grid__1_AutoML_20200723_092447_model_18    </td><td style=\"text-align: right;\">                110.119 </td><td style=\"text-align: right;\">10.4937 </td><td style=\"text-align: right;\">110.119 </td><td style=\"text-align: right;\">8.82295</td><td style=\"text-align: right;\">0.308536</td></tr>\n",
       "<tr><td>StackedEnsemble_BestOfFamily_AutoML_20200723_092447</td><td style=\"text-align: right;\">                112.96  </td><td style=\"text-align: right;\">10.6283 </td><td style=\"text-align: right;\">112.96  </td><td style=\"text-align: right;\">9.30983</td><td style=\"text-align: right;\">0.30056 </td></tr>\n",
       "<tr><td>XGBoost_grid__1_AutoML_20200723_092447_model_24    </td><td style=\"text-align: right;\">                118.832 </td><td style=\"text-align: right;\">10.901  </td><td style=\"text-align: right;\">118.832 </td><td style=\"text-align: right;\">8.34355</td><td style=\"text-align: right;\">0.308467</td></tr>\n",
       "<tr><td>GBM_4_AutoML_20200723_092447                       </td><td style=\"text-align: right;\">                120.183 </td><td style=\"text-align: right;\">10.9628 </td><td style=\"text-align: right;\">120.183 </td><td style=\"text-align: right;\">9.06056</td><td style=\"text-align: right;\">0.324098</td></tr>\n",
       "<tr><td>DeepLearning_grid__3_AutoML_20200723_092447_model_1</td><td style=\"text-align: right;\">                121.973 </td><td style=\"text-align: right;\">11.0442 </td><td style=\"text-align: right;\">121.973 </td><td style=\"text-align: right;\">9.59945</td><td style=\"text-align: right;\">0.327371</td></tr>\n",
       "<tr><td>XGBoost_grid__1_AutoML_20200723_092447_model_1     </td><td style=\"text-align: right;\">                122.651 </td><td style=\"text-align: right;\">11.0748 </td><td style=\"text-align: right;\">122.651 </td><td style=\"text-align: right;\">8.83295</td><td style=\"text-align: right;\">0.323198</td></tr>\n",
       "<tr><td>GBM_grid__1_AutoML_20200723_092447_model_7         </td><td style=\"text-align: right;\">                125.406 </td><td style=\"text-align: right;\">11.1985 </td><td style=\"text-align: right;\">125.406 </td><td style=\"text-align: right;\">9.34496</td><td style=\"text-align: right;\">0.328267</td></tr>\n",
       "</tbody>\n",
       "</table>"
      ]
     },
     "metadata": {},
     "output_type": "display_data"
    },
    {
     "data": {
      "text/plain": []
     },
     "execution_count": 173,
     "metadata": {},
     "output_type": "execute_result"
    }
   ],
   "source": [
    "lb = aml.leaderboard\n",
    "lb"
   ]
  },
  {
   "cell_type": "code",
   "execution_count": 174,
   "metadata": {},
   "outputs": [
    {
     "name": "stdout",
     "output_type": "stream",
     "text": [
      "MAE: 6.231\n",
      "MAPE: 0.174\n"
     ]
    }
   ],
   "source": [
    "lb_as_df = h2o.as_list(lb)\n",
    "best_mae = lb_as_df.iloc[0]['mae']\n",
    "mape = best_mae/np.mean(dataset_y[\"transactions\"])\n",
    "print('MAE: %.3f' % best_mae)\n",
    "print('MAPE: %.3f' % mape)"
   ]
  },
  {
   "cell_type": "markdown",
   "metadata": {},
   "source": [
    "#### Lag and windows"
   ]
  },
  {
   "cell_type": "code",
   "execution_count": 175,
   "metadata": {},
   "outputs": [
    {
     "data": {
      "text/html": [
       "<div>\n",
       "<style scoped>\n",
       "    .dataframe tbody tr th:only-of-type {\n",
       "        vertical-align: middle;\n",
       "    }\n",
       "\n",
       "    .dataframe tbody tr th {\n",
       "        vertical-align: top;\n",
       "    }\n",
       "\n",
       "    .dataframe thead th {\n",
       "        text-align: right;\n",
       "    }\n",
       "</style>\n",
       "<table border=\"1\" class=\"dataframe\">\n",
       "  <thead>\n",
       "    <tr style=\"text-align: right;\">\n",
       "      <th></th>\n",
       "      <th>transactions</th>\n",
       "      <th>transactions_lag1</th>\n",
       "      <th>transactions_avg_window_length2</th>\n",
       "      <th>transactions_lag2</th>\n",
       "      <th>transactions_avg_window_length3</th>\n",
       "      <th>transactions_lag3</th>\n",
       "      <th>transactions_avg_window_length4</th>\n",
       "      <th>transactions_lag4</th>\n",
       "      <th>transactions_avg_window_length5</th>\n",
       "      <th>transactions_lag5</th>\n",
       "      <th>...</th>\n",
       "      <th>transactions_lag11</th>\n",
       "      <th>transactions_avg_window_length12</th>\n",
       "      <th>transactions_lag12</th>\n",
       "      <th>transactions_avg_window_length13</th>\n",
       "      <th>transactions_lag13</th>\n",
       "      <th>transactions_avg_window_length14</th>\n",
       "      <th>transactions_lag14</th>\n",
       "      <th>transactions_avg_window_length15</th>\n",
       "      <th>transactions_lag15</th>\n",
       "      <th>transactions_avg_window_length16</th>\n",
       "    </tr>\n",
       "  </thead>\n",
       "  <tbody>\n",
       "    <tr>\n",
       "      <th>0</th>\n",
       "      <td>29.0</td>\n",
       "      <td>27.0</td>\n",
       "      <td>34.5</td>\n",
       "      <td>42.0</td>\n",
       "      <td>38.333333</td>\n",
       "      <td>46.0</td>\n",
       "      <td>39.00</td>\n",
       "      <td>41.0</td>\n",
       "      <td>33.4</td>\n",
       "      <td>11.0</td>\n",
       "      <td>...</td>\n",
       "      <td>64.0</td>\n",
       "      <td>36.333333</td>\n",
       "      <td>40.0</td>\n",
       "      <td>39.000000</td>\n",
       "      <td>71.0</td>\n",
       "      <td>38.642857</td>\n",
       "      <td>34.0</td>\n",
       "      <td>39.266667</td>\n",
       "      <td>48.0</td>\n",
       "      <td>40.1250</td>\n",
       "    </tr>\n",
       "    <tr>\n",
       "      <th>1</th>\n",
       "      <td>64.0</td>\n",
       "      <td>42.0</td>\n",
       "      <td>44.0</td>\n",
       "      <td>46.0</td>\n",
       "      <td>43.000000</td>\n",
       "      <td>41.0</td>\n",
       "      <td>35.00</td>\n",
       "      <td>11.0</td>\n",
       "      <td>35.2</td>\n",
       "      <td>36.0</td>\n",
       "      <td>...</td>\n",
       "      <td>40.0</td>\n",
       "      <td>40.000000</td>\n",
       "      <td>71.0</td>\n",
       "      <td>39.538462</td>\n",
       "      <td>34.0</td>\n",
       "      <td>40.142857</td>\n",
       "      <td>48.0</td>\n",
       "      <td>41.000000</td>\n",
       "      <td>53.0</td>\n",
       "      <td>41.6250</td>\n",
       "    </tr>\n",
       "    <tr>\n",
       "      <th>2</th>\n",
       "      <td>33.0</td>\n",
       "      <td>46.0</td>\n",
       "      <td>43.5</td>\n",
       "      <td>41.0</td>\n",
       "      <td>32.666667</td>\n",
       "      <td>11.0</td>\n",
       "      <td>33.50</td>\n",
       "      <td>36.0</td>\n",
       "      <td>34.8</td>\n",
       "      <td>40.0</td>\n",
       "      <td>...</td>\n",
       "      <td>71.0</td>\n",
       "      <td>39.333333</td>\n",
       "      <td>34.0</td>\n",
       "      <td>40.000000</td>\n",
       "      <td>48.0</td>\n",
       "      <td>40.928571</td>\n",
       "      <td>53.0</td>\n",
       "      <td>41.600000</td>\n",
       "      <td>51.0</td>\n",
       "      <td>42.3125</td>\n",
       "    </tr>\n",
       "    <tr>\n",
       "      <th>3</th>\n",
       "      <td>16.0</td>\n",
       "      <td>41.0</td>\n",
       "      <td>26.0</td>\n",
       "      <td>11.0</td>\n",
       "      <td>29.333333</td>\n",
       "      <td>36.0</td>\n",
       "      <td>32.00</td>\n",
       "      <td>40.0</td>\n",
       "      <td>27.4</td>\n",
       "      <td>9.0</td>\n",
       "      <td>...</td>\n",
       "      <td>34.0</td>\n",
       "      <td>39.500000</td>\n",
       "      <td>48.0</td>\n",
       "      <td>40.538462</td>\n",
       "      <td>53.0</td>\n",
       "      <td>41.285714</td>\n",
       "      <td>51.0</td>\n",
       "      <td>42.066667</td>\n",
       "      <td>53.0</td>\n",
       "      <td>42.5000</td>\n",
       "    </tr>\n",
       "    <tr>\n",
       "      <th>4</th>\n",
       "      <td>41.0</td>\n",
       "      <td>11.0</td>\n",
       "      <td>23.5</td>\n",
       "      <td>36.0</td>\n",
       "      <td>29.000000</td>\n",
       "      <td>40.0</td>\n",
       "      <td>24.00</td>\n",
       "      <td>9.0</td>\n",
       "      <td>30.6</td>\n",
       "      <td>57.0</td>\n",
       "      <td>...</td>\n",
       "      <td>48.0</td>\n",
       "      <td>40.500000</td>\n",
       "      <td>53.0</td>\n",
       "      <td>41.307692</td>\n",
       "      <td>51.0</td>\n",
       "      <td>42.142857</td>\n",
       "      <td>53.0</td>\n",
       "      <td>42.600000</td>\n",
       "      <td>49.0</td>\n",
       "      <td>43.5000</td>\n",
       "    </tr>\n",
       "    <tr>\n",
       "      <th>5</th>\n",
       "      <td>19.0</td>\n",
       "      <td>36.0</td>\n",
       "      <td>38.0</td>\n",
       "      <td>40.0</td>\n",
       "      <td>28.333333</td>\n",
       "      <td>9.0</td>\n",
       "      <td>35.50</td>\n",
       "      <td>57.0</td>\n",
       "      <td>33.0</td>\n",
       "      <td>23.0</td>\n",
       "      <td>...</td>\n",
       "      <td>53.0</td>\n",
       "      <td>43.833333</td>\n",
       "      <td>51.0</td>\n",
       "      <td>44.538462</td>\n",
       "      <td>53.0</td>\n",
       "      <td>44.857143</td>\n",
       "      <td>49.0</td>\n",
       "      <td>45.666667</td>\n",
       "      <td>57.0</td>\n",
       "      <td>45.9375</td>\n",
       "    </tr>\n",
       "    <tr>\n",
       "      <th>6</th>\n",
       "      <td>21.0</td>\n",
       "      <td>40.0</td>\n",
       "      <td>24.5</td>\n",
       "      <td>9.0</td>\n",
       "      <td>35.333333</td>\n",
       "      <td>57.0</td>\n",
       "      <td>32.25</td>\n",
       "      <td>23.0</td>\n",
       "      <td>38.6</td>\n",
       "      <td>64.0</td>\n",
       "      <td>...</td>\n",
       "      <td>51.0</td>\n",
       "      <td>45.250000</td>\n",
       "      <td>53.0</td>\n",
       "      <td>45.538462</td>\n",
       "      <td>49.0</td>\n",
       "      <td>46.357143</td>\n",
       "      <td>57.0</td>\n",
       "      <td>46.600000</td>\n",
       "      <td>50.0</td>\n",
       "      <td>46.7500</td>\n",
       "    </tr>\n",
       "    <tr>\n",
       "      <th>7</th>\n",
       "      <td>27.0</td>\n",
       "      <td>9.0</td>\n",
       "      <td>33.0</td>\n",
       "      <td>57.0</td>\n",
       "      <td>29.666667</td>\n",
       "      <td>23.0</td>\n",
       "      <td>38.25</td>\n",
       "      <td>64.0</td>\n",
       "      <td>38.6</td>\n",
       "      <td>40.0</td>\n",
       "      <td>...</td>\n",
       "      <td>53.0</td>\n",
       "      <td>46.000000</td>\n",
       "      <td>49.0</td>\n",
       "      <td>46.846154</td>\n",
       "      <td>57.0</td>\n",
       "      <td>47.071429</td>\n",
       "      <td>50.0</td>\n",
       "      <td>47.200000</td>\n",
       "      <td>49.0</td>\n",
       "      <td>49.0000</td>\n",
       "    </tr>\n",
       "    <tr>\n",
       "      <th>8</th>\n",
       "      <td>42.0</td>\n",
       "      <td>57.0</td>\n",
       "      <td>40.0</td>\n",
       "      <td>23.0</td>\n",
       "      <td>48.000000</td>\n",
       "      <td>64.0</td>\n",
       "      <td>46.00</td>\n",
       "      <td>40.0</td>\n",
       "      <td>51.0</td>\n",
       "      <td>71.0</td>\n",
       "      <td>...</td>\n",
       "      <td>49.0</td>\n",
       "      <td>50.000000</td>\n",
       "      <td>57.0</td>\n",
       "      <td>50.000000</td>\n",
       "      <td>50.0</td>\n",
       "      <td>49.928571</td>\n",
       "      <td>49.0</td>\n",
       "      <td>51.666667</td>\n",
       "      <td>76.0</td>\n",
       "      <td>52.0625</td>\n",
       "    </tr>\n",
       "    <tr>\n",
       "      <th>9</th>\n",
       "      <td>46.0</td>\n",
       "      <td>23.0</td>\n",
       "      <td>43.5</td>\n",
       "      <td>64.0</td>\n",
       "      <td>42.333333</td>\n",
       "      <td>40.0</td>\n",
       "      <td>49.50</td>\n",
       "      <td>71.0</td>\n",
       "      <td>46.4</td>\n",
       "      <td>34.0</td>\n",
       "      <td>...</td>\n",
       "      <td>57.0</td>\n",
       "      <td>49.416667</td>\n",
       "      <td>50.0</td>\n",
       "      <td>49.384615</td>\n",
       "      <td>49.0</td>\n",
       "      <td>51.285714</td>\n",
       "      <td>76.0</td>\n",
       "      <td>51.733333</td>\n",
       "      <td>58.0</td>\n",
       "      <td>52.5625</td>\n",
       "    </tr>\n",
       "  </tbody>\n",
       "</table>\n",
       "<p>10 rows × 31 columns</p>\n",
       "</div>"
      ],
      "text/plain": [
       "   transactions  transactions_lag1  transactions_avg_window_length2  \\\n",
       "0          29.0               27.0                             34.5   \n",
       "1          64.0               42.0                             44.0   \n",
       "2          33.0               46.0                             43.5   \n",
       "3          16.0               41.0                             26.0   \n",
       "4          41.0               11.0                             23.5   \n",
       "5          19.0               36.0                             38.0   \n",
       "6          21.0               40.0                             24.5   \n",
       "7          27.0                9.0                             33.0   \n",
       "8          42.0               57.0                             40.0   \n",
       "9          46.0               23.0                             43.5   \n",
       "\n",
       "   transactions_lag2  transactions_avg_window_length3  transactions_lag3  \\\n",
       "0               42.0                        38.333333               46.0   \n",
       "1               46.0                        43.000000               41.0   \n",
       "2               41.0                        32.666667               11.0   \n",
       "3               11.0                        29.333333               36.0   \n",
       "4               36.0                        29.000000               40.0   \n",
       "5               40.0                        28.333333                9.0   \n",
       "6                9.0                        35.333333               57.0   \n",
       "7               57.0                        29.666667               23.0   \n",
       "8               23.0                        48.000000               64.0   \n",
       "9               64.0                        42.333333               40.0   \n",
       "\n",
       "   transactions_avg_window_length4  transactions_lag4  \\\n",
       "0                            39.00               41.0   \n",
       "1                            35.00               11.0   \n",
       "2                            33.50               36.0   \n",
       "3                            32.00               40.0   \n",
       "4                            24.00                9.0   \n",
       "5                            35.50               57.0   \n",
       "6                            32.25               23.0   \n",
       "7                            38.25               64.0   \n",
       "8                            46.00               40.0   \n",
       "9                            49.50               71.0   \n",
       "\n",
       "   transactions_avg_window_length5  transactions_lag5  ...  \\\n",
       "0                             33.4               11.0  ...   \n",
       "1                             35.2               36.0  ...   \n",
       "2                             34.8               40.0  ...   \n",
       "3                             27.4                9.0  ...   \n",
       "4                             30.6               57.0  ...   \n",
       "5                             33.0               23.0  ...   \n",
       "6                             38.6               64.0  ...   \n",
       "7                             38.6               40.0  ...   \n",
       "8                             51.0               71.0  ...   \n",
       "9                             46.4               34.0  ...   \n",
       "\n",
       "   transactions_lag11  transactions_avg_window_length12  transactions_lag12  \\\n",
       "0                64.0                         36.333333                40.0   \n",
       "1                40.0                         40.000000                71.0   \n",
       "2                71.0                         39.333333                34.0   \n",
       "3                34.0                         39.500000                48.0   \n",
       "4                48.0                         40.500000                53.0   \n",
       "5                53.0                         43.833333                51.0   \n",
       "6                51.0                         45.250000                53.0   \n",
       "7                53.0                         46.000000                49.0   \n",
       "8                49.0                         50.000000                57.0   \n",
       "9                57.0                         49.416667                50.0   \n",
       "\n",
       "   transactions_avg_window_length13  transactions_lag13  \\\n",
       "0                         39.000000                71.0   \n",
       "1                         39.538462                34.0   \n",
       "2                         40.000000                48.0   \n",
       "3                         40.538462                53.0   \n",
       "4                         41.307692                51.0   \n",
       "5                         44.538462                53.0   \n",
       "6                         45.538462                49.0   \n",
       "7                         46.846154                57.0   \n",
       "8                         50.000000                50.0   \n",
       "9                         49.384615                49.0   \n",
       "\n",
       "   transactions_avg_window_length14  transactions_lag14  \\\n",
       "0                         38.642857                34.0   \n",
       "1                         40.142857                48.0   \n",
       "2                         40.928571                53.0   \n",
       "3                         41.285714                51.0   \n",
       "4                         42.142857                53.0   \n",
       "5                         44.857143                49.0   \n",
       "6                         46.357143                57.0   \n",
       "7                         47.071429                50.0   \n",
       "8                         49.928571                49.0   \n",
       "9                         51.285714                76.0   \n",
       "\n",
       "   transactions_avg_window_length15  transactions_lag15  \\\n",
       "0                         39.266667                48.0   \n",
       "1                         41.000000                53.0   \n",
       "2                         41.600000                51.0   \n",
       "3                         42.066667                53.0   \n",
       "4                         42.600000                49.0   \n",
       "5                         45.666667                57.0   \n",
       "6                         46.600000                50.0   \n",
       "7                         47.200000                49.0   \n",
       "8                         51.666667                76.0   \n",
       "9                         51.733333                58.0   \n",
       "\n",
       "   transactions_avg_window_length16  \n",
       "0                           40.1250  \n",
       "1                           41.6250  \n",
       "2                           42.3125  \n",
       "3                           42.5000  \n",
       "4                           43.5000  \n",
       "5                           45.9375  \n",
       "6                           46.7500  \n",
       "7                           49.0000  \n",
       "8                           52.0625  \n",
       "9                           52.5625  \n",
       "\n",
       "[10 rows x 31 columns]"
      ]
     },
     "execution_count": 175,
     "metadata": {},
     "output_type": "execute_result"
    }
   ],
   "source": [
    "mask = df_processed.columns.str.contains('transactions')\n",
    "df_processed[df_processed.columns[mask]].head(10)"
   ]
  },
  {
   "cell_type": "code",
   "execution_count": 176,
   "metadata": {
    "colab": {
     "base_uri": "https://localhost:8080/",
     "height": 191
    },
    "colab_type": "code",
    "id": "q6jgTI53MUfJ",
    "outputId": "f26ce2a1-5b61-4901-d599-703d758dc1fe"
   },
   "outputs": [
    {
     "data": {
      "text/html": [
       "<div>\n",
       "<style scoped>\n",
       "    .dataframe tbody tr th:only-of-type {\n",
       "        vertical-align: middle;\n",
       "    }\n",
       "\n",
       "    .dataframe tbody tr th {\n",
       "        vertical-align: top;\n",
       "    }\n",
       "\n",
       "    .dataframe thead th {\n",
       "        text-align: right;\n",
       "    }\n",
       "</style>\n",
       "<table border=\"1\" class=\"dataframe\">\n",
       "  <thead>\n",
       "    <tr style=\"text-align: right;\">\n",
       "      <th></th>\n",
       "      <th>Date</th>\n",
       "      <th>ground_truth</th>\n",
       "      <th>predictions</th>\n",
       "    </tr>\n",
       "  </thead>\n",
       "  <tbody>\n",
       "    <tr>\n",
       "      <th>0</th>\n",
       "      <td>2020-07-10</td>\n",
       "      <td>45.0</td>\n",
       "      <td>44.452816</td>\n",
       "    </tr>\n",
       "    <tr>\n",
       "      <th>1</th>\n",
       "      <td>2020-07-11</td>\n",
       "      <td>47.0</td>\n",
       "      <td>42.801090</td>\n",
       "    </tr>\n",
       "    <tr>\n",
       "      <th>2</th>\n",
       "      <td>2020-07-12</td>\n",
       "      <td>45.0</td>\n",
       "      <td>39.509476</td>\n",
       "    </tr>\n",
       "    <tr>\n",
       "      <th>3</th>\n",
       "      <td>2020-07-13</td>\n",
       "      <td>45.0</td>\n",
       "      <td>36.784641</td>\n",
       "    </tr>\n",
       "    <tr>\n",
       "      <th>4</th>\n",
       "      <td>2020-07-14</td>\n",
       "      <td>19.0</td>\n",
       "      <td>23.632668</td>\n",
       "    </tr>\n",
       "    <tr>\n",
       "      <th>5</th>\n",
       "      <td>2020-07-15</td>\n",
       "      <td>21.0</td>\n",
       "      <td>23.084997</td>\n",
       "    </tr>\n",
       "    <tr>\n",
       "      <th>6</th>\n",
       "      <td>2020-07-16</td>\n",
       "      <td>39.0</td>\n",
       "      <td>28.383970</td>\n",
       "    </tr>\n",
       "    <tr>\n",
       "      <th>7</th>\n",
       "      <td>2020-07-17</td>\n",
       "      <td>40.0</td>\n",
       "      <td>37.948975</td>\n",
       "    </tr>\n",
       "    <tr>\n",
       "      <th>8</th>\n",
       "      <td>2020-07-18</td>\n",
       "      <td>49.0</td>\n",
       "      <td>44.708546</td>\n",
       "    </tr>\n",
       "    <tr>\n",
       "      <th>9</th>\n",
       "      <td>2020-07-19</td>\n",
       "      <td>27.0</td>\n",
       "      <td>29.598221</td>\n",
       "    </tr>\n",
       "    <tr>\n",
       "      <th>10</th>\n",
       "      <td>2020-07-20</td>\n",
       "      <td>51.0</td>\n",
       "      <td>27.190479</td>\n",
       "    </tr>\n",
       "  </tbody>\n",
       "</table>\n",
       "</div>"
      ],
      "text/plain": [
       "          Date  ground_truth  predictions\n",
       "0   2020-07-10          45.0    44.452816\n",
       "1   2020-07-11          47.0    42.801090\n",
       "2   2020-07-12          45.0    39.509476\n",
       "3   2020-07-13          45.0    36.784641\n",
       "4   2020-07-14          19.0    23.632668\n",
       "5   2020-07-15          21.0    23.084997\n",
       "6   2020-07-16          39.0    28.383970\n",
       "7   2020-07-17          40.0    37.948975\n",
       "8   2020-07-18          49.0    44.708546\n",
       "9   2020-07-19          27.0    29.598221\n",
       "10  2020-07-20          51.0    27.190479"
      ]
     },
     "execution_count": 176,
     "metadata": {},
     "output_type": "execute_result"
    }
   ],
   "source": [
    "test_len = len(df_test)\n",
    "lastrows = df.tail(test_len)\n",
    "df_results = pd.DataFrame()\n",
    "df_results['Date'] = lastrows.index\n",
    "df_results['ground_truth'] = df_test['transactions'].reset_index(drop=True)\n",
    "df_results['predictions'] = h2o.as_list(hf_test_predict,use_pandas=True)\n",
    "df_results.head(20)"
   ]
  },
  {
   "cell_type": "code",
   "execution_count": 177,
   "metadata": {
    "colab": {
     "base_uri": "https://localhost:8080/",
     "height": 268
    },
    "colab_type": "code",
    "id": "hLedAZCYMUg-",
    "outputId": "39b55cb6-1f7c-448b-eefb-20b79628485b"
   },
   "outputs": [
    {
     "data": {
      "image/png": "[encoded data removed]",
      "text/plain": [
       "<Figure size 1296x360 with 1 Axes>"
      ]
     },
     "metadata": {
      "needs_background": "light"
     },
     "output_type": "display_data"
    }
   ],
   "source": [
    "plt.figure(figsize=(18,5))\n",
    "plt.plot(df_results['Date'],df_results['ground_truth'])\n",
    "plt.plot(df_results['Date'],df_results['predictions'])\n",
    "plt.ylabel('transactions',fontsize=18)\n",
    "plt.legend(['ground_truth','prediction'])\n",
    "plt.show()"
   ]
  },
  {
   "cell_type": "markdown",
   "metadata": {
    "colab_type": "text",
    "id": "ahNGT3aYMUhv"
   },
   "source": [
    "## Close h2o session"
   ]
  },
  {
   "cell_type": "code",
   "execution_count": 100,
   "metadata": {
    "colab": {
     "base_uri": "https://localhost:8080/",
     "height": 33
    },
    "colab_type": "code",
    "id": "qUWMb6leMUh8",
    "outputId": "ce614f70-4e24-474b-802c-0b6082ac3fef"
   },
   "outputs": [
    {
     "name": "stdout",
     "output_type": "stream",
     "text": [
      "H2O session _sid_b82c closed.\n"
     ]
    }
   ],
   "source": [
    "h2o.cluster().shutdown()"
   ]
  },
  {
   "cell_type": "code",
   "execution_count": 21,
   "metadata": {},
   "outputs": [
    {
     "data": {
      "text/plain": [
       "11"
      ]
     },
     "execution_count": 21,
     "metadata": {},
     "output_type": "execute_result"
    }
   ],
   "source": [
    "len(df_test)"
   ]
  },
  {
   "cell_type": "code",
   "execution_count": null,
   "metadata": {},
   "outputs": [],
   "source": []
  }
 ],
 "metadata": {
  "colab": {
   "collapsed_sections": [],
   "name": "H2O_AutoML_example_with_multivariate_time_series.ipynb",
   "provenance": [],
   "version": "0.3.2"
  },
  "environment": {
   "name": "r-cpu.3-6.m50",
   "type": "gcloud",
   "uri": "gcr.io/deeplearning-platform-release/r-cpu.3-6:m50"
  },
  "kernelspec": {
   "display_name": "Python 3",
   "language": "python",
   "name": "python3"
  },
  "language_info": {
   "codemirror_mode": {
    "name": "ipython",
    "version": 3
   },
   "file_extension": ".py",
   "mimetype": "text/x-python",
   "name": "python",
   "nbconvert_exporter": "python",
   "pygments_lexer": "ipython3",
   "version": "3.7.6"
  }
 },
 "nbformat": 4,
 "nbformat_minor": 4
}
